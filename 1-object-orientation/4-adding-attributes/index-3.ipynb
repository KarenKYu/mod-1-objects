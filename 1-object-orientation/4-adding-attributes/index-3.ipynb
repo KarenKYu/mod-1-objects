{
 "cells": [
  {
   "cell_type": "markdown",
   "metadata": {},
   "source": [
    "### Takeaways"
   ]
  },
  {
   "cell_type": "markdown",
   "metadata": {},
   "source": [
    "In this lesson, we learned how, after instantiating an object, we can then give it some attributes.  We both read and write attributes with dot notation.\n",
    "\n",
    "```python\n",
    "homer.name = 'homer'\n",
    "homer.name \n",
    "# 'homer'\n",
    "```\n",
    "\n",
    "And we can view all of the attributes of an object, by using the `__dict__` method."
   ]
  },
  {
   "cell_type": "markdown",
   "metadata": {},
   "source": [
    "Finally, we saw that we can create new instances of a class, and each of these objects can have their own unique characteristics.\n",
    "```python\n",
    "marge.__dict__\n",
    "{}\n",
    "```"
   ]
  }
 ],
 "metadata": {
  "kernelspec": {
   "display_name": "Python 3",
   "language": "python",
   "name": "python3"
  },
  "language_info": {
   "codemirror_mode": {
    "name": "ipython",
    "version": 3
   },
   "file_extension": ".py",
   "mimetype": "text/x-python",
   "name": "python",
   "nbconvert_exporter": "python",
   "pygments_lexer": "ipython3",
   "version": "3.7.0"
  }
 },
 "nbformat": 4,
 "nbformat_minor": 2
}
