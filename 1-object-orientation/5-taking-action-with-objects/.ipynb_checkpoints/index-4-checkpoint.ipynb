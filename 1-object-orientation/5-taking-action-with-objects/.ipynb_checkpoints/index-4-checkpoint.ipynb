{
 "cells": [
  {
   "cell_type": "markdown",
   "metadata": {},
   "source": [
    "## Discussion Questions -- So what's a class?"
   ]
  },
  {
   "cell_type": "markdown",
   "metadata": {},
   "source": [
    "Let's take another look at our `Laundromat` class.\n",
    "\n",
    "```python\n",
    "class Laundromat:\n",
    "    def openUp(self):\n",
    "        return 'Welcome, come in.'\n",
    "    \n",
    "    def closeUp(self):\n",
    "        return 'Ok, you can all go home now.'\n",
    "```"
   ]
  },
  {
   "cell_type": "markdown",
   "metadata": {},
   "source": [
    "1. So what do classes allow us to do in object oriented programming?"
   ]
  },
  {
   "cell_type": "markdown",
   "metadata": {},
   "source": [
    "2. Are there any analogies you would use to describe a class and how they work with instances?"
   ]
  }
 ],
 "metadata": {
  "kernelspec": {
   "display_name": "Python 3",
   "language": "python",
   "name": "python3"
  },
  "language_info": {
   "codemirror_mode": {
    "name": "ipython",
    "version": 3
   },
   "file_extension": ".py",
   "mimetype": "text/x-python",
   "name": "python",
   "nbconvert_exporter": "python",
   "pygments_lexer": "ipython3",
   "version": "3.7.0"
  }
 },
 "nbformat": 4,
 "nbformat_minor": 2
}
