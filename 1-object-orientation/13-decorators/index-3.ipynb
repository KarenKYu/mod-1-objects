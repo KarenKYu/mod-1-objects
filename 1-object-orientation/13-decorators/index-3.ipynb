{
 "cells": [
  {
   "cell_type": "markdown",
   "metadata": {},
   "source": [
    "### Putting it all together "
   ]
  },
  {
   "cell_type": "markdown",
   "metadata": {},
   "source": [
    "So our general pattern for setters is the following: "
   ]
  },
  {
   "cell_type": "markdown",
   "metadata": {},
   "source": [
    "```python\n",
    "@method\n",
    "def function_name(self, owner_name):\n",
    "    return self._owner_name\n",
    "```\n",
    "Translates to \n",
    "\n",
    "```python\n",
    "function_name = method(function_name)\n",
    "```"
   ]
  },
  {
   "cell_type": "markdown",
   "metadata": {},
   "source": [
    "Now let's see our class rewritten using properties."
   ]
  },
  {
   "cell_type": "code",
   "execution_count": 31,
   "metadata": {},
   "outputs": [],
   "source": [
    "class Laundromat:\n",
    "    def __init__(self, owner_name, address):\n",
    "        self._owner_name = owner_name\n",
    "        self._address = address\n",
    "    \n",
    "    @property\n",
    "    def owner_name(self):\n",
    "        return self._owner_name\n",
    "    \n",
    "    @owner_name.setter\n",
    "    def owner_name(self, owner_name):\n",
    "        self._owner_name = owner_name.capitalize()"
   ]
  },
  {
   "cell_type": "code",
   "execution_count": 32,
   "metadata": {},
   "outputs": [],
   "source": [
    "bk_laundromat = Laundromat('susan', '123 bk')"
   ]
  },
  {
   "cell_type": "code",
   "execution_count": 33,
   "metadata": {},
   "outputs": [],
   "source": [
    "bk_laundromat.owner_name = 'samira'"
   ]
  },
  {
   "cell_type": "code",
   "execution_count": 34,
   "metadata": {},
   "outputs": [
    {
     "data": {
      "text/plain": [
       "'Samira'"
      ]
     },
     "execution_count": 34,
     "metadata": {},
     "output_type": "execute_result"
    }
   ],
   "source": [
    "bk_laundromat.owner_name"
   ]
  },
  {
   "cell_type": "markdown",
   "metadata": {},
   "source": [
    "### Summary"
   ]
  },
  {
   "cell_type": "markdown",
   "metadata": {},
   "source": [
    "In this lesson, we saw how to use decorators to clean up the defining of our properties.\n",
    "\n",
    "The general formula is the following:\n",
    "```python\n",
    "@method\n",
    "def function_name(self, owner_name):\n",
    "    return self._owner_name\n",
    "```\n",
    "Translates to\n",
    "```python\n",
    "function_name = method(function_name)\n",
    "````"
   ]
  },
  {
   "cell_type": "markdown",
   "metadata": {},
   "source": [
    "So for our getter method we replace:\n",
    "\n",
    "```python\n",
    "def owner_name(self):\n",
    "    return self._owner_name\n",
    "owner_name = property(owner_name)\n",
    "```\n",
    "\n",
    "with \n",
    "```python\n",
    "@property\n",
    "def owner_name(self):\n",
    "    return self._owner_name\n",
    "```\n",
    "\n",
    "And for our setter we replace:\n",
    "```python\n",
    "def set_owner_name(self, owner_name):\n",
    "    self._owner_name = owner_name.capitalize()\n",
    "owner_name = owner_name.setter(set_owner_name)\n",
    "```\n",
    "\n",
    "with \n",
    "\n",
    "```python\n",
    "@owner_name.setter\n",
    "def owner_name(self, owner_name):\n",
    "    self._owner_name = owner_name.capitalize()\n",
    "```"
   ]
  }
 ],
 "metadata": {
  "kernelspec": {
   "display_name": "Python 3",
   "language": "python",
   "name": "python3"
  },
  "language_info": {
   "codemirror_mode": {
    "name": "ipython",
    "version": 3
   },
   "file_extension": ".py",
   "mimetype": "text/x-python",
   "name": "python",
   "nbconvert_exporter": "python",
   "pygments_lexer": "ipython3",
   "version": "3.7.0"
  }
 },
 "nbformat": 4,
 "nbformat_minor": 2
}
