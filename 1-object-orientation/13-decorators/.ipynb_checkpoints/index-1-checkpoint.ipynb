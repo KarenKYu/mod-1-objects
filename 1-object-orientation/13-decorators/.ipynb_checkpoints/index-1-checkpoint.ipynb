{
 "cells": [
  {
   "cell_type": "markdown",
   "metadata": {},
   "source": [
    "### Introduction"
   ]
  },
  {
   "cell_type": "markdown",
   "metadata": {},
   "source": [
    "In the last lesson, we saw how we can use the property object to allow us to wrap our data inside of a method while accessing the data as if it were not inside of a method.  In this lesson, we'll see how to make the process of using decorators a little less cumbersome with the use of decorators."
   ]
  },
  {
   "cell_type": "markdown",
   "metadata": {},
   "source": [
    "### Let's Review"
   ]
  },
  {
   "cell_type": "markdown",
   "metadata": {},
   "source": [
    "We created a class with property objects with the following."
   ]
  },
  {
   "cell_type": "code",
   "execution_count": 2,
   "metadata": {},
   "outputs": [],
   "source": [
    "class Laundromat:\n",
    "    def __init__(self, owner_name, address):\n",
    "        self._owner_name = owner_name\n",
    "        self._address = address\n",
    "        \n",
    "    def get_owner_name(self):\n",
    "        return self._owner_name\n",
    "    owner_name = property(get_owner_name)\n",
    "    \n",
    "    def set_owner_name(self, owner_name):\n",
    "        self._owner_name = owner_name.capitalize()\n",
    "    owner_name = owner_name.setter(set_owner_name)"
   ]
  },
  {
   "cell_type": "markdown",
   "metadata": {},
   "source": [
    "Writing our code like this allowed us to call our setter or getter methods when calling `.owner_name`.  Let's see this in action."
   ]
  },
  {
   "cell_type": "code",
   "execution_count": 4,
   "metadata": {},
   "outputs": [],
   "source": [
    "bk_laundromat = Laundromat('bob', '123 brooklyn')"
   ]
  },
  {
   "cell_type": "markdown",
   "metadata": {},
   "source": [
    "Now notice what happens if we assign a new owner to our `bk_laundromat`."
   ]
  },
  {
   "cell_type": "code",
   "execution_count": 6,
   "metadata": {},
   "outputs": [],
   "source": [
    "bk_laundromat.owner_name = 'fred'"
   ]
  },
  {
   "cell_type": "code",
   "execution_count": 7,
   "metadata": {},
   "outputs": [
    {
     "data": {
      "text/plain": [
       "'Fred'"
      ]
     },
     "execution_count": 7,
     "metadata": {},
     "output_type": "execute_result"
    }
   ],
   "source": [
    "bk_laundromat.owner_name"
   ]
  },
  {
   "cell_type": "markdown",
   "metadata": {},
   "source": [
    "The name `Fred` is capitalized, because with our properties in our class, by calling `bk_laundromat.owner_name = 'fred'`, we are really calling the `set_owner_name` method and passing through `owner_name` as an argument."
   ]
  },
  {
   "cell_type": "markdown",
   "metadata": {},
   "source": [
    "### A small refactoring"
   ]
  },
  {
   "cell_type": "markdown",
   "metadata": {},
   "source": [
    "One issue with our code like this, is that there are now two different ways to call our setters and getters.  One way is by using our properties, like we see whenever we now call `bk_laundromat.owner_name`.  And the other way is by directly using the setter or getter method like so."
   ]
  },
  {
   "cell_type": "code",
   "execution_count": 8,
   "metadata": {},
   "outputs": [
    {
     "data": {
      "text/plain": [
       "'Fred'"
      ]
     },
     "execution_count": 8,
     "metadata": {},
     "output_type": "execute_result"
    }
   ],
   "source": [
    "bk_laundromat.get_owner_name()"
   ]
  },
  {
   "cell_type": "markdown",
   "metadata": {},
   "source": [
    "We can change our class, so that our setter and getter methods are not directly accessible, like so."
   ]
  },
  {
   "cell_type": "code",
   "execution_count": 11,
   "metadata": {},
   "outputs": [],
   "source": [
    "class Laundromat:\n",
    "    def __init__(self, owner_name, address):\n",
    "        self._owner_name = owner_name\n",
    "        self._address = address\n",
    "        \n",
    "    def owner_name(self):\n",
    "        return self._owner_name\n",
    "    owner_name = property(owner_name)\n",
    "    \n",
    "    def set_owner_name(self, owner_name):\n",
    "        self._owner_name = owner_name.capitalize()\n",
    "    owner_name = owner_name.setter(set_owner_name)"
   ]
  },
  {
   "cell_type": "code",
   "execution_count": 12,
   "metadata": {},
   "outputs": [],
   "source": [
    "laundromat = Laundromat('sally', '456 bk')"
   ]
  },
  {
   "cell_type": "code",
   "execution_count": 15,
   "metadata": {},
   "outputs": [
    {
     "data": {
      "text/plain": [
       "'sally'"
      ]
     },
     "execution_count": 15,
     "metadata": {},
     "output_type": "execute_result"
    }
   ],
   "source": [
    "laundromat.owner_name"
   ]
  },
  {
   "cell_type": "markdown",
   "metadata": {},
   "source": [
    "Now when we try to call `laundromat.owner_name` as a method we see that it is no longer there."
   ]
  },
  {
   "cell_type": "code",
   "execution_count": 16,
   "metadata": {},
   "outputs": [
    {
     "ename": "TypeError",
     "evalue": "'str' object is not callable",
     "output_type": "error",
     "traceback": [
      "\u001b[0;31m---------------------------------------------------------------------------\u001b[0m",
      "\u001b[0;31mTypeError\u001b[0m                                 Traceback (most recent call last)",
      "\u001b[0;32m<ipython-input-16-b40a6cf997e9>\u001b[0m in \u001b[0;36m<module>\u001b[0;34m()\u001b[0m\n\u001b[0;32m----> 1\u001b[0;31m \u001b[0mlaundromat\u001b[0m\u001b[0;34m.\u001b[0m\u001b[0mowner_name\u001b[0m\u001b[0;34m(\u001b[0m\u001b[0;34m)\u001b[0m\u001b[0;34m\u001b[0m\u001b[0m\n\u001b[0m",
      "\u001b[0;31mTypeError\u001b[0m: 'str' object is not callable"
     ]
    }
   ],
   "source": [
    "laundromat.owner_name()"
   ]
  },
  {
   "cell_type": "markdown",
   "metadata": {},
   "source": [
    "The reason why is because the method `owner_name` is overridden by the attribute ownername.  And there can be only one."
   ]
  },
  {
   "cell_type": "code",
   "execution_count": 17,
   "metadata": {},
   "outputs": [
    {
     "data": {
      "text/plain": [
       "mappingproxy({'__module__': '__main__',\n",
       "              '__init__': <function __main__.Laundromat.__init__(self, owner_name, address)>,\n",
       "              'owner_name': <property at 0x107af9458>,\n",
       "              'set_owner_name': <function __main__.Laundromat.set_owner_name(self, owner_name)>,\n",
       "              '__dict__': <attribute '__dict__' of 'Laundromat' objects>,\n",
       "              '__weakref__': <attribute '__weakref__' of 'Laundromat' objects>,\n",
       "              '__doc__': None})"
      ]
     },
     "execution_count": 17,
     "metadata": {},
     "output_type": "execute_result"
    }
   ],
   "source": [
    "Laundromat.__dict__"
   ]
  },
  {
   "cell_type": "markdown",
   "metadata": {},
   "source": [
    "Great, so by naming our getter function the same as our property attribute, we have hidden direct access to our getter function."
   ]
  },
  {
   "cell_type": "markdown",
   "metadata": {},
   "source": [
    "### Using decorators"
   ]
  },
  {
   "cell_type": "markdown",
   "metadata": {},
   "source": [
    "Ok, now time for a shortcut."
   ]
  },
  {
   "cell_type": "code",
   "execution_count": 24,
   "metadata": {},
   "outputs": [],
   "source": [
    "class Laundromat:\n",
    "    def __init__(self, owner_name, address):\n",
    "        self._owner_name = owner_name\n",
    "        self._address = address\n",
    "    \n",
    "    @property\n",
    "    def owner_name(self):\n",
    "        return self._owner_name\n",
    "    # owner_name = property(owner_name)"
   ]
  },
  {
   "cell_type": "code",
   "execution_count": 25,
   "metadata": {},
   "outputs": [],
   "source": [
    "bk_laundromat = Laundromat('bob', '123 bk')"
   ]
  },
  {
   "cell_type": "code",
   "execution_count": 26,
   "metadata": {},
   "outputs": [
    {
     "data": {
      "text/plain": [
       "'bob'"
      ]
     },
     "execution_count": 26,
     "metadata": {},
     "output_type": "execute_result"
    }
   ],
   "source": [
    "bk_laundromat.owner_name"
   ]
  },
  {
   "cell_type": "markdown",
   "metadata": {},
   "source": [
    "Ok, so above, we commented out the `owner_name = property(owner_name)` line and replaced it with the word `@property` above our `owner_name` method."
   ]
  },
  {
   "cell_type": "markdown",
   "metadata": {},
   "source": [
    "So what the heck is this @ sign above a method?  That is a decorator.  Let's zoom in on our use of a decorator."
   ]
  },
  {
   "cell_type": "markdown",
   "metadata": {},
   "source": [
    "```python\n",
    "@property\n",
    "def owner_name(self):\n",
    "    return self._owner_name\n",
    "```"
   ]
  },
  {
   "cell_type": "markdown",
   "metadata": {},
   "source": [
    "This is equivalent to the following.\n",
    "```python\n",
    "owner_name = property(owner_name)\n",
    "```"
   ]
  },
  {
   "cell_type": "markdown",
   "metadata": {},
   "source": [
    "So by using a decorator, we are passing through the function `owner_name` as an argument to `property()`, and then assigning the result to `owner_name`."
   ]
  },
  {
   "cell_type": "markdown",
   "metadata": {},
   "source": [
    "Let's see another example of using decorators, using a decorator for our setters."
   ]
  },
  {
   "cell_type": "markdown",
   "metadata": {},
   "source": [
    "### Using decorators for setters"
   ]
  },
  {
   "cell_type": "markdown",
   "metadata": {},
   "source": [
    "So what we want to do is change our code to link up our setter propertty to use a decorator.  This is what we started with.\n",
    "\n",
    "```python\n",
    "    def set_owner_name(self, owner_name):\n",
    "        self._owner_name = owner_name.capitalize()\n",
    "    owner_name = owner_name.setter(set_owner_name)\n",
    "```"
   ]
  },
  {
   "cell_type": "markdown",
   "metadata": {},
   "source": [
    "And using a decorator we rewrite this as the following."
   ]
  },
  {
   "cell_type": "markdown",
   "metadata": {},
   "source": [
    "```python\n",
    "@owner_name.setter\n",
    "def owner_name(self, owner_name):\n",
    "    return self._owner_name\n",
    "```"
   ]
  },
  {
   "cell_type": "markdown",
   "metadata": {},
   "source": [
    "Let's think about why this works.  By using a decorator, we are saying to pass through the `owner_name` function into the `owner_name.setter` method and then assign this result to the attributte `owner_name`."
   ]
  },
  {
   "cell_type": "markdown",
   "metadata": {},
   "source": [
    "### Putting it all together "
   ]
  },
  {
   "cell_type": "markdown",
   "metadata": {},
   "source": [
    "So our general pattern for setters is the following: "
   ]
  },
  {
   "cell_type": "markdown",
   "metadata": {},
   "source": [
    "```python\n",
    "@method\n",
    "def function_name(self, owner_name):\n",
    "    return self._owner_name\n",
    "```\n",
    "Translates to \n",
    "\n",
    "```python\n",
    "function_name = method(function_name)\n",
    "```"
   ]
  },
  {
   "cell_type": "markdown",
   "metadata": {},
   "source": [
    "Now let's see our class rewritten using properties."
   ]
  },
  {
   "cell_type": "code",
   "execution_count": 31,
   "metadata": {},
   "outputs": [],
   "source": [
    "class Laundromat:\n",
    "    def __init__(self, owner_name, address):\n",
    "        self._owner_name = owner_name\n",
    "        self._address = address\n",
    "    \n",
    "    @property\n",
    "    def owner_name(self):\n",
    "        return self._owner_name\n",
    "    \n",
    "    @owner_name.setter\n",
    "    def owner_name(self, owner_name):\n",
    "        self._owner_name = owner_name.capitalize()"
   ]
  },
  {
   "cell_type": "code",
   "execution_count": 32,
   "metadata": {},
   "outputs": [],
   "source": [
    "bk_laundromat = Laundromat('susan', '123 bk')"
   ]
  },
  {
   "cell_type": "code",
   "execution_count": 33,
   "metadata": {},
   "outputs": [],
   "source": [
    "bk_laundromat.owner_name = 'samira'"
   ]
  },
  {
   "cell_type": "code",
   "execution_count": 34,
   "metadata": {},
   "outputs": [
    {
     "data": {
      "text/plain": [
       "'Samira'"
      ]
     },
     "execution_count": 34,
     "metadata": {},
     "output_type": "execute_result"
    }
   ],
   "source": [
    "bk_laundromat.owner_name"
   ]
  },
  {
   "cell_type": "markdown",
   "metadata": {},
   "source": [
    "### Summary"
   ]
  },
  {
   "cell_type": "markdown",
   "metadata": {},
   "source": [
    "In this lesson, we saw how to use decorators to clean up the defining of our properties.\n",
    "\n",
    "The general formula is the following:\n",
    "```python\n",
    "@method\n",
    "def function_name(self, owner_name):\n",
    "    return self._owner_name\n",
    "```\n",
    "Translates to\n",
    "```python\n",
    "function_name = method(function_name)\n",
    "````"
   ]
  },
  {
   "cell_type": "markdown",
   "metadata": {},
   "source": [
    "So for our getter method we replace:\n",
    "\n",
    "```python\n",
    "def owner_name(self):\n",
    "    return self._owner_name\n",
    "owner_name = property(owner_name)\n",
    "```\n",
    "\n",
    "with \n",
    "```python\n",
    "@property\n",
    "def owner_name(self):\n",
    "    return self._owner_name\n",
    "```\n",
    "\n",
    "And for our setter we replace:\n",
    "```python\n",
    "def set_owner_name(self, owner_name):\n",
    "    self._owner_name = owner_name.capitalize()\n",
    "owner_name = owner_name.setter(set_owner_name)\n",
    "```\n",
    "\n",
    "with \n",
    "\n",
    "```python\n",
    "@owner_name.setter\n",
    "def owner_name(self, owner_name):\n",
    "    self._owner_name = owner_name.capitalize()\n",
    "```"
   ]
  }
 ],
 "metadata": {
  "kernelspec": {
   "display_name": "Python 3",
   "language": "python",
   "name": "python3"
  },
  "language_info": {
   "codemirror_mode": {
    "name": "ipython",
    "version": 3
   },
   "file_extension": ".py",
   "mimetype": "text/x-python",
   "name": "python",
   "nbconvert_exporter": "python",
   "pygments_lexer": "ipython3",
   "version": "3.7.4"
  }
 },
 "nbformat": 4,
 "nbformat_minor": 4
}
