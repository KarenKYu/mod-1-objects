{
 "cells": [
  {
   "cell_type": "markdown",
   "metadata": {},
   "source": [
    "### Using decorators"
   ]
  },
  {
   "cell_type": "markdown",
   "metadata": {},
   "source": [
    "Ok, now time for a shortcut."
   ]
  },
  {
   "cell_type": "code",
   "execution_count": 24,
   "metadata": {},
   "outputs": [],
   "source": [
    "class Laundromat:\n",
    "    def __init__(self, owner_name, address):\n",
    "        self._owner_name = owner_name\n",
    "        self._address = address\n",
    "    \n",
    "    @property\n",
    "    def owner_name(self):\n",
    "        return self._owner_name\n",
    "    # owner_name = property(owner_name)"
   ]
  },
  {
   "cell_type": "code",
   "execution_count": 25,
   "metadata": {},
   "outputs": [],
   "source": [
    "bk_laundromat = Laundromat('bob', '123 bk')"
   ]
  },
  {
   "cell_type": "code",
   "execution_count": 26,
   "metadata": {},
   "outputs": [
    {
     "data": {
      "text/plain": [
       "'bob'"
      ]
     },
     "execution_count": 26,
     "metadata": {},
     "output_type": "execute_result"
    }
   ],
   "source": [
    "bk_laundromat.owner_name"
   ]
  },
  {
   "cell_type": "markdown",
   "metadata": {},
   "source": [
    "Ok, so above, we commented out the `owner_name = property(owner_name)` line and replaced it with the word `@property` above our `owner_name` method."
   ]
  },
  {
   "cell_type": "markdown",
   "metadata": {},
   "source": [
    "So what the heck is this @ sign above a method?  That is a decorator.  Let's zoom in on our use of a decorator."
   ]
  },
  {
   "cell_type": "markdown",
   "metadata": {},
   "source": [
    "```python\n",
    "@property\n",
    "def owner_name(self):\n",
    "    return self._owner_name\n",
    "```"
   ]
  },
  {
   "cell_type": "markdown",
   "metadata": {},
   "source": [
    "This is equivalent to the following.\n",
    "```python\n",
    "owner_name = property(owner_name)\n",
    "```"
   ]
  },
  {
   "cell_type": "markdown",
   "metadata": {},
   "source": [
    "So by using a decorator, we are passing through the function `owner_name` as an argument to `property()`, and then assigning the result to `owner_name`."
   ]
  },
  {
   "cell_type": "markdown",
   "metadata": {},
   "source": [
    "Let's see another example of using decorators, using a decorator for our setters."
   ]
  },
  {
   "cell_type": "markdown",
   "metadata": {},
   "source": [
    "### Using decorators for setters"
   ]
  },
  {
   "cell_type": "markdown",
   "metadata": {},
   "source": [
    "So what we want to do is change our code to link up our setter propertty to use a decorator.  This is what we started with.\n",
    "\n",
    "```python\n",
    "    def set_owner_name(self, owner_name):\n",
    "        self._owner_name = owner_name.capitalize()\n",
    "    owner_name = owner_name.setter(set_owner_name)\n",
    "```"
   ]
  },
  {
   "cell_type": "markdown",
   "metadata": {},
   "source": [
    "And using a decorator we rewrite this as the following."
   ]
  },
  {
   "cell_type": "markdown",
   "metadata": {},
   "source": [
    "```python\n",
    "@owner_name.setter\n",
    "def owner_name(self, owner_name):\n",
    "    return self._owner_name\n",
    "```"
   ]
  },
  {
   "cell_type": "markdown",
   "metadata": {},
   "source": [
    "Let's think about why this works.  By using a decorator, we are saying to pass through the `owner_name` function into the `owner_name.setter` method and then assign this result to the attributte `owner_name`."
   ]
  }
 ],
 "metadata": {
  "kernelspec": {
   "display_name": "Python 3",
   "language": "python",
   "name": "python3"
  },
  "language_info": {
   "codemirror_mode": {
    "name": "ipython",
    "version": 3
   },
   "file_extension": ".py",
   "mimetype": "text/x-python",
   "name": "python",
   "nbconvert_exporter": "python",
   "pygments_lexer": "ipython3",
   "version": "3.7.0"
  }
 },
 "nbformat": 4,
 "nbformat_minor": 2
}
