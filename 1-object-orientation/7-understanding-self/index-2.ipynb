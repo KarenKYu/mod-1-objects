{
 "cells": [
  {
   "cell_type": "markdown",
   "metadata": {},
   "source": [
    "### The Self Keyword"
   ]
  },
  {
   "cell_type": "markdown",
   "metadata": {},
   "source": [
    "We use the idea from the last section to reference the `queens_laundromat` from inside of our class.  After all, think about what would happen when we call the same method on the Brooklyn location.  We'll continue to get the `Welcome to Queens` message, when really we want `Welcome to Brooklyn`.  So we want a way to reference just the particular instance's data."
   ]
  },
  {
   "cell_type": "markdown",
   "metadata": {},
   "source": [
    "**This**  is the change that we want."
   ]
  },
  {
   "cell_type": "code",
   "execution_count": 4,
   "metadata": {},
   "outputs": [],
   "source": [
    "class Laundromat:\n",
    "    def openUp(self):\n",
    "        # use the self keyword\n",
    "        return 'Welcome to ' + self.location"
   ]
  },
  {
   "cell_type": "code",
   "execution_count": 5,
   "metadata": {},
   "outputs": [],
   "source": [
    "queens_laundromat = Laundromat()\n",
    "queens_laundromat.location = 'Queens'\n",
    "brooklyn_laundromat = Laundromat()\n",
    "brooklyn_laundromat.location = 'Brooklyn'"
   ]
  },
  {
   "cell_type": "markdown",
   "metadata": {},
   "source": [
    "Now notice what happens when we call the `openUp` method."
   ]
  },
  {
   "cell_type": "code",
   "execution_count": 7,
   "metadata": {},
   "outputs": [
    {
     "data": {
      "text/plain": [
       "'Welcome to Queens'"
      ]
     },
     "execution_count": 7,
     "metadata": {},
     "output_type": "execute_result"
    }
   ],
   "source": [
    "queens_laundromat.openUp()"
   ]
  },
  {
   "cell_type": "code",
   "execution_count": 8,
   "metadata": {},
   "outputs": [
    {
     "data": {
      "text/plain": [
       "'Welcome to Brooklyn'"
      ]
     },
     "execution_count": 8,
     "metadata": {},
     "output_type": "execute_result"
    }
   ],
   "source": [
    "brooklyn_laundromat.openUp()"
   ]
  },
  {
   "cell_type": "markdown",
   "metadata": {},
   "source": [
    "The value of location seems to change based on the object receiving the method call."
   ]
  },
  {
   "cell_type": "markdown",
   "metadata": {},
   "source": [
    "This is because we used this `self` keyword.  What is self?"
   ]
  },
  {
   "cell_type": "markdown",
   "metadata": {},
   "source": [
    "> **self** takes on the value of the object that *receives* the method call.  Or more simply, it takes on the value of whatever object is to the left of the dot."
   ]
  },
  {
   "cell_type": "markdown",
   "metadata": {},
   "source": [
    "Let's take a look at our class again."
   ]
  },
  {
   "cell_type": "code",
   "execution_count": 35,
   "metadata": {},
   "outputs": [],
   "source": [
    "class Laundromat:\n",
    "    def openUp(self):\n",
    "        return 'Welcome to ' + self.location"
   ]
  },
  {
   "cell_type": "code",
   "execution_count": 36,
   "metadata": {},
   "outputs": [
    {
     "data": {
      "text/plain": [
       "'Welcome to Queens'"
      ]
     },
     "execution_count": 36,
     "metadata": {},
     "output_type": "execute_result"
    }
   ],
   "source": [
    "queens_laundromat.openUp()"
   ]
  },
  {
   "cell_type": "markdown",
   "metadata": {},
   "source": [
    "Now when we call `queens_laundromat.openUp()`, the object to the left of the dot is the `queens_laundromat`.  So in the method `openUp`, you can replace `self` with `queens_laundromat`, and that is the `location` that is referenced."
   ]
  },
  {
   "cell_type": "markdown",
   "metadata": {},
   "source": [
    "However, when we call this same method on the `brooklyn_laundromat`, the value of `self` changes."
   ]
  },
  {
   "cell_type": "code",
   "execution_count": 37,
   "metadata": {},
   "outputs": [
    {
     "data": {
      "text/plain": [
       "'Welcome to Brooklyn'"
      ]
     },
     "execution_count": 37,
     "metadata": {},
     "output_type": "execute_result"
    }
   ],
   "source": [
    "brooklyn_laundromat.openUp()"
   ]
  },
  {
   "cell_type": "markdown",
   "metadata": {},
   "source": [
    "We can always replace the word `self` with the object that receives the method call, or in other words, the value of self is whatever object is to the left of the dot."
   ]
  },
  {
   "cell_type": "markdown",
   "metadata": {},
   "source": [
    "Of course the best way to get the hang of this is with some practice, so let's move into that."
   ]
  },
  {
   "cell_type": "markdown",
   "metadata": {},
   "source": [
    "### Summary"
   ]
  },
  {
   "cell_type": "markdown",
   "metadata": {},
   "source": [
    "In this lesson, we saw how to reference an object from inside of a method call.  The way that we do this is by using the `self` keyword.  \n",
    "\n",
    "The `self` keyword takes on the value of whatever object is to the left of the dot.  So when we call `queens_laundromat.openUp()` from inside of the method call, the value of self is the instance `queens_laundromat`.  And when we call `brooklyn_laundromat.openUp()` the value of `self` from inside of the method call is the instance `brooklyn_laundromat`. "
   ]
  },
  {
   "cell_type": "markdown",
   "metadata": {},
   "source": [
    "We can then reference that instance's data from inside of the method call, as we saw above."
   ]
  },
  {
   "cell_type": "markdown",
   "metadata": {},
   "source": [
    "```python\n",
    "class Laundromat:\n",
    "    def openUp(self):\n",
    "        return 'Welcome to ' + self.location\n",
    "```"
   ]
  },
  {
   "cell_type": "markdown",
   "metadata": {},
   "source": [
    "```python\n",
    "queens_laundromat.openUp()\n",
    "# 'Welcome to Queens'\n",
    "```"
   ]
  }
 ],
 "metadata": {
  "kernelspec": {
   "display_name": "Python 3",
   "language": "python",
   "name": "python3"
  },
  "language_info": {
   "codemirror_mode": {
    "name": "ipython",
    "version": 3
   },
   "file_extension": ".py",
   "mimetype": "text/x-python",
   "name": "python",
   "nbconvert_exporter": "python",
   "pygments_lexer": "ipython3",
   "version": "3.7.0"
  }
 },
 "nbformat": 4,
 "nbformat_minor": 2
}
