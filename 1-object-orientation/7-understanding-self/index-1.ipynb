{
 "cells": [
  {
   "cell_type": "markdown",
   "metadata": {},
   "source": [
    "### Introduction"
   ]
  },
  {
   "cell_type": "markdown",
   "metadata": {},
   "source": [
    "In the last lesson, we create our `Laundromat` class and added some methods to it."
   ]
  },
  {
   "cell_type": "markdown",
   "metadata": {},
   "source": [
    "```python\n",
    "class Laundromat:\n",
    "    def openUp(self):\n",
    "        return 'Welcome, come in.'\n",
    "    \n",
    "    def closeUp(self):\n",
    "        return 'Ok, you can all go home now.'\n",
    "```"
   ]
  },
  {
   "cell_type": "markdown",
   "metadata": {},
   "source": [
    "We saw that our methods are available to each instance of our class, however our instances can have unique data.  Now imagine if we want to change our  `openUp` method to say 'Welcome to the *queens* cleaners'.  Or perhaps we'd like to write a method called `needed_supplies`, that calculates what supplies we should purchase more of. \n",
    "\n",
    "Each of these methods will need require us to have customized return values based on the each instance's unique data.  This way, we don't say 'Welcome to the Queens cleaners', when our location is Brooklyn.  Let's see how we can do this."
   ]
  },
  {
   "cell_type": "markdown",
   "metadata": {},
   "source": [
    "### Creating our objects"
   ]
  },
  {
   "cell_type": "markdown",
   "metadata": {},
   "source": [
    "Ok, time to create some objects.  We'll start with our `Laundromat` class and the `openUp` method."
   ]
  },
  {
   "cell_type": "code",
   "execution_count": 2,
   "metadata": {},
   "outputs": [],
   "source": [
    "class Laundromat:\n",
    "    def openUp(self):\n",
    "        return 'Welcome, come in.'"
   ]
  },
  {
   "cell_type": "markdown",
   "metadata": {},
   "source": [
    "And now let's create a `Queens` laundromat and a `Brooklyn` laundromat."
   ]
  },
  {
   "cell_type": "code",
   "execution_count": 3,
   "metadata": {},
   "outputs": [
    {
     "data": {
      "text/plain": [
       "{'location': 'Brooklyn'}"
      ]
     },
     "execution_count": 3,
     "metadata": {},
     "output_type": "execute_result"
    }
   ],
   "source": [
    "queens_laundromat = Laundromat()\n",
    "queens_laundromat.location = 'Queens'\n",
    "brooklyn_laundromat = Laundromat()\n",
    "brooklyn_laundromat.location = 'Brooklyn'\n",
    "queens_laundromat.__dict__\n",
    "# {'location': 'Queens'}\n",
    "brooklyn_laundromat.__dict__\n",
    "# {'location': 'Queens'}"
   ]
  },
  {
   "cell_type": "markdown",
   "metadata": {},
   "source": [
    "### A neighborhood message"
   ]
  },
  {
   "cell_type": "markdown",
   "metadata": {},
   "source": [
    "Now our task doesn't seem so tricky.  We'd like to change our openUp method so that it says `\"Welcome to the Queens cleaners\"` for the location in Queens and `\"Welcome to the Brooklyn cleaners\"` for the location in Brooklyn.  Currently, we don't have that capability."
   ]
  },
  {
   "cell_type": "markdown",
   "metadata": {},
   "source": [
    "One idea could be to reference the `queens_laundromat` from inside of the `Laundromat` class. "
   ]
  },
  {
   "cell_type": "code",
   "execution_count": 24,
   "metadata": {},
   "outputs": [],
   "source": [
    "class Laundromat:\n",
    "    def openUp(self):\n",
    "        return 'Welcome to ' + queens_laundromat.location"
   ]
  },
  {
   "cell_type": "markdown",
   "metadata": {},
   "source": [
    "What would be wrong with this?  Any other ways we could fix this?"
   ]
  }
 ],
 "metadata": {
  "kernelspec": {
   "display_name": "Python 3",
   "language": "python",
   "name": "python3"
  },
  "language_info": {
   "codemirror_mode": {
    "name": "ipython",
    "version": 3
   },
   "file_extension": ".py",
   "mimetype": "text/x-python",
   "name": "python",
   "nbconvert_exporter": "python",
   "pygments_lexer": "ipython3",
   "version": "3.7.0"
  }
 },
 "nbformat": 4,
 "nbformat_minor": 2
}
