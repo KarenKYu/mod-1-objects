{
 "cells": [
  {
   "cell_type": "markdown",
   "metadata": {},
   "source": [
    "### The variable lookup chain"
   ]
  },
  {
   "cell_type": "markdown",
   "metadata": {},
   "source": [
    "Notice that when we assign a class variable that variable is not directly stored on the instance."
   ]
  },
  {
   "cell_type": "code",
   "execution_count": 25,
   "metadata": {},
   "outputs": [
    {
     "data": {
      "text/plain": [
       "{}"
      ]
     },
     "execution_count": 25,
     "metadata": {},
     "output_type": "execute_result"
    }
   ],
   "source": [
    "laundromat.__dict__"
   ]
  },
  {
   "cell_type": "markdown",
   "metadata": {},
   "source": [
    "Even though seems like it might be."
   ]
  },
  {
   "cell_type": "code",
   "execution_count": 26,
   "metadata": {},
   "outputs": [
    {
     "data": {
      "text/plain": [
       "'commercial'"
      ]
     },
     "execution_count": 26,
     "metadata": {},
     "output_type": "execute_result"
    }
   ],
   "source": [
    "laundromat.property_type"
   ]
  },
  {
   "cell_type": "markdown",
   "metadata": {},
   "source": [
    "To see the class attributes, we look for them on the class itself."
   ]
  },
  {
   "cell_type": "code",
   "execution_count": 33,
   "metadata": {},
   "outputs": [
    {
     "data": {
      "text/plain": [
       "mappingproxy({'__module__': '__main__',\n",
       "              'property_type': 'commercial',\n",
       "              'set_owner_name': <function __main__.Laundromat.set_owner_name(self, owner_name)>,\n",
       "              '__dict__': <attribute '__dict__' of 'Laundromat' objects>,\n",
       "              '__weakref__': <attribute '__weakref__' of 'Laundromat' objects>,\n",
       "              '__doc__': None})"
      ]
     },
     "execution_count": 33,
     "metadata": {},
     "output_type": "execute_result"
    }
   ],
   "source": [
    "Laundromat.__dict__"
   ]
  },
  {
   "cell_type": "markdown",
   "metadata": {},
   "source": [
    "You can see in the second line, that this is stored directly on our class."
   ]
  },
  {
   "cell_type": "markdown",
   "metadata": {},
   "source": [
    "So notice what happens when we call `laundromat.property_type`.  Python will first look for this as an instance variable, then it will look to see if this is a class variable.  If it is not found as either, Python returns an error."
   ]
  },
  {
   "cell_type": "code",
   "execution_count": 35,
   "metadata": {},
   "outputs": [
    {
     "ename": "AttributeError",
     "evalue": "'Laundromat' object has no attribute 'foobar'",
     "output_type": "error",
     "traceback": [
      "\u001b[0;31m---------------------------------------------------------------------------\u001b[0m",
      "\u001b[0;31mAttributeError\u001b[0m                            Traceback (most recent call last)",
      "\u001b[0;32m<ipython-input-35-5a7c5e1b9e8d>\u001b[0m in \u001b[0;36m<module>\u001b[0;34m()\u001b[0m\n\u001b[0;32m----> 1\u001b[0;31m \u001b[0mlaundromat\u001b[0m\u001b[0;34m.\u001b[0m\u001b[0mfoobar\u001b[0m\u001b[0;34m\u001b[0m\u001b[0m\n\u001b[0m",
      "\u001b[0;31mAttributeError\u001b[0m: 'Laundromat' object has no attribute 'foobar'"
     ]
    }
   ],
   "source": [
    "laundromat.foobar"
   ]
  },
  {
   "cell_type": "markdown",
   "metadata": {},
   "source": [
    "### Summary"
   ]
  },
  {
   "cell_type": "markdown",
   "metadata": {},
   "source": [
    "In this lesson, we learned about class attributes.  We use class attributes whenever we would like our attribute to be the same for every instance of a class.\n",
    "\n",
    "To create a class attribute, we simply assign a variable outside of class."
   ]
  },
  {
   "cell_type": "code",
   "execution_count": null,
   "metadata": {},
   "outputs": [],
   "source": [
    "class Laundromat:\n",
    "    property_type = 'commercial'"
   ]
  },
  {
   "cell_type": "markdown",
   "metadata": {},
   "source": [
    "We saw that once we do this, the attribute is not defined directly on the instances of the class, but on the class itself."
   ]
  },
  {
   "cell_type": "code",
   "execution_count": 36,
   "metadata": {},
   "outputs": [
    {
     "data": {
      "text/plain": [
       "mappingproxy({'__module__': '__main__',\n",
       "              'property_type': 'commercial',\n",
       "              'set_owner_name': <function __main__.Laundromat.set_owner_name(self, owner_name)>,\n",
       "              '__dict__': <attribute '__dict__' of 'Laundromat' objects>,\n",
       "              '__weakref__': <attribute '__weakref__' of 'Laundromat' objects>,\n",
       "              '__doc__': None})"
      ]
     },
     "execution_count": 36,
     "metadata": {},
     "output_type": "execute_result"
    }
   ],
   "source": [
    "Laundromat.__dict__"
   ]
  },
  {
   "cell_type": "markdown",
   "metadata": {},
   "source": [
    "However, we still can read this attribute directly from an instance of the class."
   ]
  },
  {
   "cell_type": "code",
   "execution_count": 38,
   "metadata": {},
   "outputs": [
    {
     "data": {
      "text/plain": [
       "{}"
      ]
     },
     "execution_count": 38,
     "metadata": {},
     "output_type": "execute_result"
    }
   ],
   "source": [
    "laundromat = Laundromat()\n",
    "laundromat.__dict__"
   ]
  },
  {
   "cell_type": "code",
   "execution_count": 39,
   "metadata": {},
   "outputs": [
    {
     "data": {
      "text/plain": [
       "'commercial'"
      ]
     },
     "execution_count": 39,
     "metadata": {},
     "output_type": "execute_result"
    }
   ],
   "source": [
    "laundromat.property_type"
   ]
  },
  {
   "cell_type": "markdown",
   "metadata": {},
   "source": [
    "This works because when we call an attribute on an instance, Python first looks for this attribute directly on the instance, and if it does not find it there, gthen looks for it on the class.  "
   ]
  }
 ],
 "metadata": {
  "kernelspec": {
   "display_name": "Python 3",
   "language": "python",
   "name": "python3"
  },
  "language_info": {
   "codemirror_mode": {
    "name": "ipython",
    "version": 3
   },
   "file_extension": ".py",
   "mimetype": "text/x-python",
   "name": "python",
   "nbconvert_exporter": "python",
   "pygments_lexer": "ipython3",
   "version": "3.7.0"
  }
 },
 "nbformat": 4,
 "nbformat_minor": 2
}
