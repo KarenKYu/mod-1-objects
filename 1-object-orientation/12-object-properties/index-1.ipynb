{
 "cells": [
  {
   "cell_type": "markdown",
   "metadata": {},
   "source": [
    "# Object Properties"
   ]
  },
  {
   "cell_type": "markdown",
   "metadata": {},
   "source": [
    "### Introduction"
   ]
  },
  {
   "cell_type": "markdown",
   "metadata": {},
   "source": [
    "Let's discuss another way that we can begin to formalize the data that an instance contains, with object properties."
   ]
  },
  {
   "cell_type": "markdown",
   "metadata": {},
   "source": [
    "### Back to the Laundromat"
   ]
  },
  {
   "cell_type": "markdown",
   "metadata": {},
   "source": [
    "Here, again is our `Laundromat` class."
   ]
  },
  {
   "cell_type": "code",
   "execution_count": 7,
   "metadata": {},
   "outputs": [],
   "source": [
    "class Laundromat:\n",
    "    def __init__(self, owner_name, address):\n",
    "        self.owner_name = owner_name\n",
    "        self.address = address"
   ]
  },
  {
   "cell_type": "code",
   "execution_count": 2,
   "metadata": {},
   "outputs": [],
   "source": [
    "queens_laundromat = Laundromat('bob', '123 queens')"
   ]
  },
  {
   "cell_type": "code",
   "execution_count": 10,
   "metadata": {},
   "outputs": [
    {
     "data": {
      "text/plain": [
       "'bob'"
      ]
     },
     "execution_count": 10,
     "metadata": {},
     "output_type": "execute_result"
    }
   ],
   "source": [
    "queens_laundromat.owner_name"
   ]
  },
  {
   "cell_type": "markdown",
   "metadata": {},
   "source": [
    "Now, all seems good.  \n",
    "\n",
    "However, what if we do not like that formatting of `owner_name`.  Perhaps we would like the name to always be capitalized.  \n",
    "\n",
    "Right now, owner name can come back in any format, but it would be nice if there were a way to format how our data was stored.  For example, we might want the owner's name capitalized.  Or the address to include a zip code.  \n",
    "\n",
    "We'll see that we can enforce how our data is stored if we have setting and getting attributes occur through a method."
   ]
  },
  {
   "cell_type": "markdown",
   "metadata": {},
   "source": [
    "### Introduction to getters and setters"
   ]
  },
  {
   "cell_type": "markdown",
   "metadata": {},
   "source": [
    "Let's see how we can accomplish this."
   ]
  },
  {
   "cell_type": "code",
   "execution_count": 18,
   "metadata": {},
   "outputs": [],
   "source": [
    "class Laundromat:\n",
    "    def __init__(self, owner_name, address):\n",
    "        self.setOwnerName(owner_name)\n",
    "        self._address = address\n",
    "        \n",
    "    def ownerName(self):\n",
    "        return self._owner_name\n",
    "    \n",
    "    def setOwnerName(self, name):\n",
    "        self._owner_name = name.capitalize()"
   ]
  },
  {
   "cell_type": "markdown",
   "metadata": {},
   "source": [
    "And take a look at what occurs."
   ]
  },
  {
   "cell_type": "code",
   "execution_count": 19,
   "metadata": {},
   "outputs": [],
   "source": [
    "laundromat = Laundromat('bob', '123 queens')"
   ]
  },
  {
   "cell_type": "code",
   "execution_count": 20,
   "metadata": {},
   "outputs": [
    {
     "data": {
      "text/plain": [
       "'Bob'"
      ]
     },
     "execution_count": 20,
     "metadata": {},
     "output_type": "execute_result"
    }
   ],
   "source": [
    "laundromat.ownerName()"
   ]
  },
  {
   "cell_type": "markdown",
   "metadata": {},
   "source": [
    "> So even though we pass through the owner name as lowercased, by setting it through the method, it is always transformed to be uppercased."
   ]
  },
  {
   "cell_type": "markdown",
   "metadata": {},
   "source": [
    "What we just did - creating methods for setting and retrieving our data is pretty standard throughout programming.  The methods are called `getter` and `setter` methods.\n",
    "\n",
    "A setter method is a method that in charge of setting an attribute on an instance, and a getter method is in charge of retrieving that attribute on an instance."
   ]
  },
  {
   "cell_type": "markdown",
   "metadata": {},
   "source": [
    "### A smoothe interface"
   ]
  },
  {
   "cell_type": "markdown",
   "metadata": {},
   "source": [
    "There's just one issue that we may have.  Using our getter and setter methods are more clunky than when we just set the data directly. \n",
    "\n",
    "Here is how we set data using our setter method.\n",
    "\n",
    "```python\n",
    "laundromat.setOwnerName(name)\n",
    "```"
   ]
  },
  {
   "cell_type": "markdown",
   "metadata": {},
   "source": [
    "It's ok, but we'd like to do better."
   ]
  },
  {
   "cell_type": "markdown",
   "metadata": {},
   "source": [
    " We would really like to be able to use the simple interface that we had previously, but still get the benefit of protecting and altering our data with a method.  Ideally we could do something like the following."
   ]
  },
  {
   "cell_type": "markdown",
   "metadata": {},
   "source": [
    "```python\n",
    "laundromat.name = 'bob'`\n",
    "laundromat.name \n",
    "# 'bob'\n",
    "```"
   ]
  },
  {
   "cell_type": "markdown",
   "metadata": {},
   "source": [
    "To implement this cleaner interface, we'll start by trying to change our getter method."
   ]
  },
  {
   "cell_type": "code",
   "execution_count": 24,
   "metadata": {},
   "outputs": [],
   "source": [
    "class Laundromat:\n",
    "    def __init__(self, owner_name, address):\n",
    "        self.setOwnerName(owner_name)\n",
    "        self._address = address\n",
    "        \n",
    "    def name(self):\n",
    "        return self._owner_name\n",
    "    \n",
    "    def setOwnerName(self, name):\n",
    "        self._owner_name = name.capitalize()"
   ]
  },
  {
   "cell_type": "code",
   "execution_count": 27,
   "metadata": {},
   "outputs": [],
   "source": [
    "laundromat = Laundromat('bob', '123 queens')"
   ]
  },
  {
   "cell_type": "code",
   "execution_count": 28,
   "metadata": {},
   "outputs": [
    {
     "data": {
      "text/plain": [
       "<bound method Laundromat.name of <__main__.Laundromat object at 0x10ad49828>>"
      ]
     },
     "execution_count": 28,
     "metadata": {},
     "output_type": "execute_result"
    }
   ],
   "source": [
    "laundromat.name"
   ]
  },
  {
   "cell_type": "markdown",
   "metadata": {},
   "source": [
    "Bummer.  That doesn't work.  Calling `laundromat.name` just returns the name method.  We still need to tack on the parentheses to execute the method."
   ]
  },
  {
   "cell_type": "code",
   "execution_count": 29,
   "metadata": {},
   "outputs": [
    {
     "data": {
      "text/plain": [
       "'Bob'"
      ]
     },
     "execution_count": 29,
     "metadata": {},
     "output_type": "execute_result"
    }
   ],
   "source": [
    "laundromat.name()"
   ]
  },
  {
   "cell_type": "markdown",
   "metadata": {},
   "source": [
    "### The property object in action"
   ]
  },
  {
   "cell_type": "markdown",
   "metadata": {},
   "source": [
    "We can fix this by using a Python property object.  \n",
    "\n",
    "\n",
    "The property object is best understood by seeing it in action, so let's go.  First, let's create a property object."
   ]
  },
  {
   "cell_type": "code",
   "execution_count": 66,
   "metadata": {},
   "outputs": [
    {
     "data": {
      "text/plain": [
       "<property at 0x10ad79d68>"
      ]
     },
     "execution_count": 66,
     "metadata": {},
     "output_type": "execute_result"
    }
   ],
   "source": [
    "property()"
   ]
  },
  {
   "cell_type": "markdown",
   "metadata": {},
   "source": [
    "> We create a property object using the built in `property` constructor.\n",
    "\n",
    "In creating this object, we can pass through our getter method as the first argument.  So below we first define our getter method and then we pass it through our `property` constructor in the last following line."
   ]
  },
  {
   "cell_type": "code",
   "execution_count": 76,
   "metadata": {},
   "outputs": [],
   "source": [
    "def get_owner_name(self):\n",
    "    return self._owner_name\n",
    "owner_name_property = property(get_owner_name) "
   ]
  },
  {
   "cell_type": "markdown",
   "metadata": {},
   "source": [
    "In doing this, the function `get_owner_name` is now the getter function on this property."
   ]
  },
  {
   "cell_type": "code",
   "execution_count": 80,
   "metadata": {},
   "outputs": [
    {
     "data": {
      "text/plain": [
       "<function __main__.get_owner_name(self)>"
      ]
     },
     "execution_count": 80,
     "metadata": {},
     "output_type": "execute_result"
    }
   ],
   "source": [
    "owner_name_property.fget"
   ]
  },
  {
   "cell_type": "markdown",
   "metadata": {},
   "source": [
    "This has nice consequences when used inside of a class, let's see."
   ]
  },
  {
   "cell_type": "code",
   "execution_count": 83,
   "metadata": {},
   "outputs": [],
   "source": [
    "class Laundromat:\n",
    "    def __init__(self, owner_name, address):\n",
    "        self._owner_name = owner_name\n",
    "        self._address = address\n",
    "        \n",
    "    def get_owner_name(self):\n",
    "        return self._owner_name\n",
    "    owner_name = property(get_owner_name)"
   ]
  },
  {
   "cell_type": "code",
   "execution_count": 84,
   "metadata": {},
   "outputs": [],
   "source": [
    "laundromat = Laundromat('bob', '123 queens')"
   ]
  },
  {
   "cell_type": "code",
   "execution_count": 86,
   "metadata": {},
   "outputs": [
    {
     "data": {
      "text/plain": [
       "'bob'"
      ]
     },
     "execution_count": 86,
     "metadata": {},
     "output_type": "execute_result"
    }
   ],
   "source": [
    "laundromat.owner_name"
   ]
  },
  {
   "cell_type": "markdown",
   "metadata": {},
   "source": [
    "Ok, so no more parentheses, yet we still called our `get_owner_name` function! Woohoo!"
   ]
  },
  {
   "cell_type": "markdown",
   "metadata": {},
   "source": [
    "Let's break down how this worked."
   ]
  },
  {
   "cell_type": "markdown",
   "metadata": {},
   "source": [
    "So in the last line of the `Laundromat` class, we set the class attribute `owner_name` equal to our property object.  And that property object has the function `get_owner_name` passed through as the getter.  \n",
    "\n",
    "This means that whenever we call `laundromat.owner_name`, this points to our property object, which immediately executes the getter function.  "
   ]
  },
  {
   "cell_type": "markdown",
   "metadata": {},
   "source": [
    "### Using the property function for setters"
   ]
  },
  {
   "cell_type": "markdown",
   "metadata": {},
   "source": [
    "Now the property function can also be used to ensure that correct setter function is called.  Let's see it.\n",
    "\n",
    "We'll start with creating our property object with our getter, just like last time."
   ]
  },
  {
   "cell_type": "code",
   "execution_count": 4,
   "metadata": {},
   "outputs": [],
   "source": [
    "def get_owner_name(self):\n",
    "    return self._owner_name\n",
    "owner_name_property = property(get_owner_name) "
   ]
  },
  {
   "cell_type": "markdown",
   "metadata": {},
   "source": [
    "Now we have our property object with our `get_owner_name` linked up as our getter."
   ]
  },
  {
   "cell_type": "code",
   "execution_count": 91,
   "metadata": {},
   "outputs": [
    {
     "data": {
      "text/plain": [
       "<function __main__.get_owner_name(self)>"
      ]
     },
     "execution_count": 91,
     "metadata": {},
     "output_type": "execute_result"
    }
   ],
   "source": [
    "owner_name_property.fget"
   ]
  },
  {
   "cell_type": "markdown",
   "metadata": {},
   "source": [
    "Now we can also link up our property object to a setter with the following.  First we define the setter, `set_owner_name`.  Then we link it up as the `owner_name_property`'s setter with the `.setter` method."
   ]
  },
  {
   "cell_type": "code",
   "execution_count": 105,
   "metadata": {},
   "outputs": [],
   "source": [
    "def set_owner_name(self, owner_name):\n",
    "    self._owner_name = owner_name\n",
    "owner_name_property = owner_name_property.setter(set_owner_name)"
   ]
  },
  {
   "cell_type": "code",
   "execution_count": 106,
   "metadata": {},
   "outputs": [
    {
     "data": {
      "text/plain": [
       "<function __main__.set_owner_name(self, owner_name)>"
      ]
     },
     "execution_count": 106,
     "metadata": {},
     "output_type": "execute_result"
    }
   ],
   "source": [
    "owner_name_property.fset"
   ]
  },
  {
   "cell_type": "markdown",
   "metadata": {},
   "source": [
    "So this is how we link up a function to be a property object's setter.  \n",
    "\n",
    "Once again, let's now see what happens when we move this inside of a class."
   ]
  },
  {
   "cell_type": "code",
   "execution_count": 109,
   "metadata": {},
   "outputs": [],
   "source": [
    "class Laundromat:\n",
    "    def __init__(self, owner_name, address):\n",
    "        self._owner_name = owner_name\n",
    "        self._address = address\n",
    "        \n",
    "    def get_owner_name(self):\n",
    "        return self._owner_name\n",
    "    owner_name = property(get_owner_name)\n",
    "    \n",
    "    def set_owner_name(self, owner_name):\n",
    "        self._owner_name = owner_name.capitalize()\n",
    "    owner_name = owner_name.setter(set_owner_name)"
   ]
  },
  {
   "cell_type": "code",
   "execution_count": 110,
   "metadata": {},
   "outputs": [],
   "source": [
    "queens_laundromat = Laundromat('bob', '123 queens')"
   ]
  },
  {
   "cell_type": "code",
   "execution_count": 112,
   "metadata": {},
   "outputs": [
    {
     "data": {
      "text/plain": [
       "'bob'"
      ]
     },
     "execution_count": 112,
     "metadata": {},
     "output_type": "execute_result"
    }
   ],
   "source": [
    "queens_laundromat.owner_name"
   ]
  },
  {
   "cell_type": "markdown",
   "metadata": {},
   "source": [
    "Now let's try updating the value of `owner_name`."
   ]
  },
  {
   "cell_type": "code",
   "execution_count": 113,
   "metadata": {},
   "outputs": [],
   "source": [
    "queens_laundromat.owner_name = 'fred'"
   ]
  },
  {
   "cell_type": "code",
   "execution_count": 114,
   "metadata": {},
   "outputs": [
    {
     "data": {
      "text/plain": [
       "'Fred'"
      ]
     },
     "execution_count": 114,
     "metadata": {},
     "output_type": "execute_result"
    }
   ],
   "source": [
    "queens_laundromat.owner_name"
   ]
  },
  {
   "cell_type": "markdown",
   "metadata": {},
   "source": [
    "Notice that our owner_name is now capitalized.  This occurs because when we called `queens_laundromat.owner_name = 'fred'`, this referenced our `owner_name` property.  The `owner_name` property has the `set_owner_name` function set up as it's setter.  So this means that whenever the `owner_name = ` is used, whatever is to the right of the equals sign is passed through as an argument to the setter method, `set_owner_name`.  That method takes in the `owner_name` as an argument, capitalizes it and then sets it to the property `_owner_name`.  Then when we call `queens_laundromat.owner_name`, the property of `_owner_name` is returned."
   ]
  },
  {
   "cell_type": "markdown",
   "metadata": {},
   "source": [
    "### Summary"
   ]
  },
  {
   "cell_type": "markdown",
   "metadata": {},
   "source": [
    "In this lesson, we learned how to use property objects.  Property objects allow us to wrap our data inside of a method, yet get and set that data as if it were not wrapped inside of a method.  The way that we do this is by linking up a getter function and a setter function to our property object.  \n",
    "\n",
    "We can link up our getter function to the property object simply by passing it through as an argument to the property constructor.\n",
    "```python\n",
    "def getter_function():\n",
    "    pass\n",
    "property_object = property(getter_function)\n",
    "```\n",
    "\n",
    "And we can link up our setter function by calling `.setter` on our property object, and passing through setter function.\n",
    "\n",
    "```python\n",
    "def setter_function():\n",
    "    pass\n",
    "property_object.setter(setter_function)\n",
    "```"
   ]
  }
 ],
 "metadata": {
  "kernelspec": {
   "display_name": "Python 3",
   "language": "python",
   "name": "python3"
  },
  "language_info": {
   "codemirror_mode": {
    "name": "ipython",
    "version": 3
   },
   "file_extension": ".py",
   "mimetype": "text/x-python",
   "name": "python",
   "nbconvert_exporter": "python",
   "pygments_lexer": "ipython3",
   "version": "3.7.4"
  }
 },
 "nbformat": 4,
 "nbformat_minor": 4
}
