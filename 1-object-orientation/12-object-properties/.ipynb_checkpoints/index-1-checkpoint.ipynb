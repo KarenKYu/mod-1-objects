{
 "cells": [
  {
   "cell_type": "markdown",
   "metadata": {},
   "source": [
    "### Introduction"
   ]
  },
  {
   "cell_type": "markdown",
   "metadata": {},
   "source": [
    "Let's discuss another way that we can begin to formalize the data that an instance contains, with object properties."
   ]
  },
  {
   "cell_type": "markdown",
   "metadata": {},
   "source": [
    "### Back to the Laundromat"
   ]
  },
  {
   "cell_type": "markdown",
   "metadata": {},
   "source": [
    "Here, again is our `Laundromat` class."
   ]
  },
  {
   "cell_type": "code",
   "execution_count": 7,
   "metadata": {},
   "outputs": [],
   "source": [
    "class Laundromat:\n",
    "    def __init__(self, owner_name, address):\n",
    "        self.owner_name = owner_name\n",
    "        self.address = address"
   ]
  },
  {
   "cell_type": "code",
   "execution_count": 2,
   "metadata": {},
   "outputs": [],
   "source": [
    "queens_laundromat = Laundromat('bob', '123 queens')"
   ]
  },
  {
   "cell_type": "code",
   "execution_count": 10,
   "metadata": {},
   "outputs": [
    {
     "data": {
      "text/plain": [
       "'bob'"
      ]
     },
     "execution_count": 10,
     "metadata": {},
     "output_type": "execute_result"
    }
   ],
   "source": [
    "queens_laundromat.owner_name"
   ]
  },
  {
   "cell_type": "markdown",
   "metadata": {},
   "source": [
    "Now, all seems good.  But perhaps we do not like that formatting of `owner_name`, perhaps we would like to always be capitalized.  Right now, owner name can come back in various formats, but it would be nice if there were a way to format how our data was stored.  For example, we might want the owner's name capitalized.  Or the address to include a zip code.  \n",
    "\n",
    "We can't do accomplish this if we allow our data to directly be set.  However, we can enforce this if we ensure that setting and getting attributes occurs through a method."
   ]
  },
  {
   "cell_type": "markdown",
   "metadata": {},
   "source": [
    "### Introduction to getters and setters"
   ]
  },
  {
   "cell_type": "markdown",
   "metadata": {},
   "source": [
    "This is how we accomplish this."
   ]
  },
  {
   "cell_type": "code",
   "execution_count": 18,
   "metadata": {},
   "outputs": [],
   "source": [
    "class Laundromat:\n",
    "    def __init__(self, owner_name, address):\n",
    "        self.setOwnerName(owner_name)\n",
    "        self._address = address\n",
    "        \n",
    "    def ownerName(self):\n",
    "        return self._owner_name\n",
    "    \n",
    "    def setOwnerName(self, name):\n",
    "        self._owner_name = name.capitalize()"
   ]
  },
  {
   "cell_type": "code",
   "execution_count": 19,
   "metadata": {},
   "outputs": [],
   "source": [
    "laundromat = Laundromat('bob', '123 queens')"
   ]
  },
  {
   "cell_type": "code",
   "execution_count": 20,
   "metadata": {},
   "outputs": [
    {
     "data": {
      "text/plain": [
       "'Bob'"
      ]
     },
     "execution_count": 20,
     "metadata": {},
     "output_type": "execute_result"
    }
   ],
   "source": [
    "laundromat.ownerName()"
   ]
  },
  {
   "cell_type": "code",
   "execution_count": 21,
   "metadata": {},
   "outputs": [],
   "source": [
    "laundromat.setOwnerName('fred')"
   ]
  },
  {
   "cell_type": "code",
   "execution_count": 22,
   "metadata": {},
   "outputs": [
    {
     "data": {
      "text/plain": [
       "'Fred'"
      ]
     },
     "execution_count": 22,
     "metadata": {},
     "output_type": "execute_result"
    }
   ],
   "source": [
    "laundromat.ownerName()"
   ]
  },
  {
   "cell_type": "markdown",
   "metadata": {},
   "source": [
    "Ok, so now we have a method to set our owner name, and retrieve our owner name.  These are pretty standard throughout programming, and are called `getter` and `setter` methods."
   ]
  },
  {
   "cell_type": "markdown",
   "metadata": {},
   "source": [
    "There's just one issue that we may have, our getter and setter methods are more clunky than when we just set the data directly.  We would really like to be able to use the simple interface that we had previously, but still get the benefit of protecting and altering our data with a method.  Ideally we could do something like the following.\n",
    "\n",
    "```python\n",
    "laundromat.name = 'bob'`\n",
    "laundromat.name \n",
    "# 'bob'\n",
    "```"
   ]
  },
  {
   "cell_type": "markdown",
   "metadata": {},
   "source": [
    "### A smoothe interface"
   ]
  },
  {
   "cell_type": "markdown",
   "metadata": {},
   "source": [
    "Let's try to implement this cleaner interface, we'll start with just changing our getter method."
   ]
  },
  {
   "cell_type": "code",
   "execution_count": 24,
   "metadata": {},
   "outputs": [],
   "source": [
    "class Laundromat:\n",
    "    def __init__(self, owner_name, address):\n",
    "        self.setOwnerName(owner_name)\n",
    "        self._address = address\n",
    "        \n",
    "    def name(self):\n",
    "        return self._owner_name\n",
    "    \n",
    "    def setOwnerName(self, name):\n",
    "        self._owner_name = name.capitalize()"
   ]
  },
  {
   "cell_type": "code",
   "execution_count": 27,
   "metadata": {},
   "outputs": [],
   "source": [
    "laundromat = Laundromat('bob', '123 queens')"
   ]
  },
  {
   "cell_type": "code",
   "execution_count": 28,
   "metadata": {},
   "outputs": [
    {
     "data": {
      "text/plain": [
       "<bound method Laundromat.name of <__main__.Laundromat object at 0x10ad49828>>"
      ]
     },
     "execution_count": 28,
     "metadata": {},
     "output_type": "execute_result"
    }
   ],
   "source": [
    "laundromat.name"
   ]
  },
  {
   "cell_type": "markdown",
   "metadata": {},
   "source": [
    "Bummer.  That doesn't work.  Calling `laundromat.name` just returns the name method.  We still need to tack on the parentheses to execute the method."
   ]
  },
  {
   "cell_type": "code",
   "execution_count": 29,
   "metadata": {},
   "outputs": [
    {
     "data": {
      "text/plain": [
       "'Bob'"
      ]
     },
     "execution_count": 29,
     "metadata": {},
     "output_type": "execute_result"
    }
   ],
   "source": [
    "laundromat.name()"
   ]
  }
 ],
 "metadata": {
  "kernelspec": {
   "display_name": "Python 3",
   "language": "python",
   "name": "python3"
  },
  "language_info": {
   "codemirror_mode": {
    "name": "ipython",
    "version": 3
   },
   "file_extension": ".py",
   "mimetype": "text/x-python",
   "name": "python",
   "nbconvert_exporter": "python",
   "pygments_lexer": "ipython3",
   "version": "3.7.0"
  }
 },
 "nbformat": 4,
 "nbformat_minor": 2
}
