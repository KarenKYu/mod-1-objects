{
 "cells": [
  {
   "cell_type": "markdown",
   "metadata": {},
   "source": [
    "### Using the property function for setters"
   ]
  },
  {
   "cell_type": "markdown",
   "metadata": {},
   "source": [
    "Now the property function can also be used to ensure that correct setter function is called.  Let's see it.\n",
    "\n",
    "We'll start with creating our property object with our getter, just like last time."
   ]
  },
  {
   "cell_type": "code",
   "execution_count": 4,
   "metadata": {},
   "outputs": [],
   "source": [
    "def get_owner_name(self):\n",
    "    return self._owner_name\n",
    "owner_name_property = property(get_owner_name) "
   ]
  },
  {
   "cell_type": "markdown",
   "metadata": {},
   "source": [
    "Now we have our property object with our `get_owner_name` linked up as our getter."
   ]
  },
  {
   "cell_type": "code",
   "execution_count": 91,
   "metadata": {},
   "outputs": [
    {
     "data": {
      "text/plain": [
       "<function __main__.get_owner_name(self)>"
      ]
     },
     "execution_count": 91,
     "metadata": {},
     "output_type": "execute_result"
    }
   ],
   "source": [
    "owner_name_property.fget"
   ]
  },
  {
   "cell_type": "markdown",
   "metadata": {},
   "source": [
    "Now we can also link up our property object to a setter with the following.  First we define the setter, `set_owner_name`.  Then we link it up as the `owner_name_property`'s setter with the `.setter` method."
   ]
  },
  {
   "cell_type": "code",
   "execution_count": 105,
   "metadata": {},
   "outputs": [],
   "source": [
    "def set_owner_name(self, owner_name):\n",
    "    self._owner_name = owner_name\n",
    "owner_name_property = owner_name_property.setter(set_owner_name)"
   ]
  },
  {
   "cell_type": "code",
   "execution_count": 106,
   "metadata": {},
   "outputs": [
    {
     "data": {
      "text/plain": [
       "<function __main__.set_owner_name(self, owner_name)>"
      ]
     },
     "execution_count": 106,
     "metadata": {},
     "output_type": "execute_result"
    }
   ],
   "source": [
    "owner_name_property.fset"
   ]
  },
  {
   "cell_type": "markdown",
   "metadata": {},
   "source": [
    "So this is how we link up a function to be a property object's setter.  \n",
    "\n",
    "Once again, let's now see what happens when we move this inside of a class."
   ]
  },
  {
   "cell_type": "code",
   "execution_count": 109,
   "metadata": {},
   "outputs": [],
   "source": [
    "class Laundromat:\n",
    "    def __init__(self, owner_name, address):\n",
    "        self._owner_name = owner_name\n",
    "        self._address = address\n",
    "        \n",
    "    def get_owner_name(self):\n",
    "        return self._owner_name\n",
    "    owner_name = property(get_owner_name)\n",
    "    \n",
    "    def set_owner_name(self, owner_name):\n",
    "        self._owner_name = owner_name.capitalize()\n",
    "    owner_name = owner_name.setter(set_owner_name)"
   ]
  },
  {
   "cell_type": "code",
   "execution_count": 110,
   "metadata": {},
   "outputs": [],
   "source": [
    "queens_laundromat = Laundromat('bob', '123 queens')"
   ]
  },
  {
   "cell_type": "code",
   "execution_count": 112,
   "metadata": {},
   "outputs": [
    {
     "data": {
      "text/plain": [
       "'bob'"
      ]
     },
     "execution_count": 112,
     "metadata": {},
     "output_type": "execute_result"
    }
   ],
   "source": [
    "queens_laundromat.owner_name"
   ]
  },
  {
   "cell_type": "markdown",
   "metadata": {},
   "source": [
    "Now let's try updating the value of `owner_name`."
   ]
  },
  {
   "cell_type": "code",
   "execution_count": 113,
   "metadata": {},
   "outputs": [],
   "source": [
    "queens_laundromat.owner_name = 'fred'"
   ]
  },
  {
   "cell_type": "code",
   "execution_count": 114,
   "metadata": {},
   "outputs": [
    {
     "data": {
      "text/plain": [
       "'Fred'"
      ]
     },
     "execution_count": 114,
     "metadata": {},
     "output_type": "execute_result"
    }
   ],
   "source": [
    "queens_laundromat.owner_name"
   ]
  },
  {
   "cell_type": "markdown",
   "metadata": {},
   "source": [
    "Notice that our owner_name is now capitalized.  This occurs because when we called `queens_laundromat.owner_name = 'fred'`, this referenced our `owner_name` property.  The `owner_name` property has the `set_owner_name` function set up as it's setter.  So this means that whenever the `owner_name = ` is used, whatever is to the right of the equals sign is passed through as an argument to the setter method, `set_owner_name`.  That method takes in the `owner_name` as an argument, capitalizes it and then sets it to the property `_owner_name`.  Then when we call `queens_laundromat.owner_name`, the property of `_owner_name` is returned."
   ]
  },
  {
   "cell_type": "markdown",
   "metadata": {},
   "source": [
    "### Summary"
   ]
  },
  {
   "cell_type": "markdown",
   "metadata": {},
   "source": [
    "In this lesson, we learned how to use property objects.  Property objects allow us to wrap our data inside of a method, yet get and set that data as if it were not wrapped inside of a method.  The way that we do this is by linking up a getter function and a setter function to our property object.  \n",
    "\n",
    "We can link up our getter function to the property object simply by passing it through as an argument to the property constructor.\n",
    "```python\n",
    "def getter_function():\n",
    "    pass\n",
    "property_object = property(getter_function)\n",
    "```\n",
    "\n",
    "And we can link up our setter function by calling `.setter` on our property object, and passing through setter function.\n",
    "\n",
    "```python\n",
    "def setter_function():\n",
    "    pass\n",
    "property_object.setter(setter_function)\n",
    "```"
   ]
  }
 ],
 "metadata": {
  "kernelspec": {
   "display_name": "Python 3",
   "language": "python",
   "name": "python3"
  },
  "language_info": {
   "codemirror_mode": {
    "name": "ipython",
    "version": 3
   },
   "file_extension": ".py",
   "mimetype": "text/x-python",
   "name": "python",
   "nbconvert_exporter": "python",
   "pygments_lexer": "ipython3",
   "version": "3.7.0"
  }
 },
 "nbformat": 4,
 "nbformat_minor": 2
}
