{
 "cells": [
  {
   "cell_type": "markdown",
   "metadata": {},
   "source": [
    "# Testing Objects"
   ]
  },
  {
   "cell_type": "markdown",
   "metadata": {},
   "source": [
    "### Introduction"
   ]
  },
  {
   "cell_type": "markdown",
   "metadata": {},
   "source": [
    "In this lesson we'll see how to test objects."
   ]
  },
  {
   "cell_type": "markdown",
   "metadata": {},
   "source": [
    "### Starting Testing"
   ]
  },
  {
   "cell_type": "markdown",
   "metadata": {},
   "source": [
    "In testing objects, we should test each of our methods.  Let's get started by testing our `Bundle` objects from the previous lesson.\n",
    "\n",
    "We can place our Bundle class in a file called `bundle.py`."
   ]
  },
  {
   "cell_type": "code",
   "execution_count": 11,
   "metadata": {},
   "outputs": [],
   "source": [
    "class Bundle:\n",
    "    def price(self):\n",
    "        if self.weight < 5:\n",
    "            return 10\n",
    "        else:\n",
    "            return 10 + (self.weight - 5)*1.5\n",
    "    \n",
    "    def processingDays(self):\n",
    "        month_difference = self.ready_month - self.dropoff_month\n",
    "        day_difference = self.ready_day -  self.dropoff_day\n",
    "        return month_difference*30 + day_difference\n",
    "    \n",
    "    def holdingDays(self):\n",
    "        month_difference = self.pickup_month - self.dropoff_month\n",
    "        day_difference = self.pickup_month -  self.dropoff_day\n",
    "        return month_difference*30 + day_difference"
   ]
  },
  {
   "cell_type": "markdown",
   "metadata": {},
   "source": [
    "And then create a file called `test_bundle.py` that looks like the following."
   ]
  },
  {
   "cell_type": "markdown",
   "metadata": {},
   "source": [
    "```python\n",
    "\n",
    "# test_bundle.py\n",
    "\n",
    "import pytest\n",
    "from bundle import *\n",
    "\n",
    "def test_bundle():\n",
    "    bundle = Bundle()\n",
    "    assert type(bundle) == Bundle\n",
    "```"
   ]
  },
  {
   "cell_type": "markdown",
   "metadata": {},
   "source": [
    "In the first two lines, we import `pytest`, and then we import the contents of our `bundle` file.  We need the bundle file, so that we can test the actual Bundle class in the method below.\n",
    "\n",
    "In the `test_bundle` method we just get started by making sure we can initialize a new bundle object."
   ]
  },
  {
   "cell_type": "markdown",
   "metadata": {},
   "source": [
    "### Testing Methods"
   ]
  },
  {
   "cell_type": "markdown",
   "metadata": {},
   "source": [
    "Ok, now let's move onto testing one of our methods.  We can test the `price` method."
   ]
  },
  {
   "cell_type": "code",
   "execution_count": 12,
   "metadata": {},
   "outputs": [],
   "source": [
    "class Bundle:\n",
    "    def price(self):\n",
    "        if self.weight < 5:\n",
    "            return 10\n",
    "        else:\n",
    "            return 10 + (self.weight - 5)*1.5"
   ]
  },
  {
   "cell_type": "markdown",
   "metadata": {},
   "source": [
    "We can test the price method by creating a bundle, setting the weight to different inputs, and then returning the appropriate output.  Notice that with our `if else` statement, there are two scenarios we should test. "
   ]
  },
  {
   "cell_type": "markdown",
   "metadata": {},
   "source": [
    "```python\n",
    "# test_bundle.py\n",
    "\n",
    "def test_min_price_is_ten():\n",
    "    bundle = Bundle()\n",
    "    bundle.weight = 3\n",
    "    assert bundle.price() == 10\n",
    "\n",
    "def test_additional_one_point_for_if_over_five_pounds():\n",
    "    bundle = Bundle()\n",
    "    bundle.weight = 7\n",
    "    assert bundle.price() == 13\n",
    "```"
   ]
  },
  {
   "cell_type": "markdown",
   "metadata": {},
   "source": [
    "Add the two functions to the `test_bundle.py` file and run the tests."
   ]
  },
  {
   "cell_type": "code",
   "execution_count": 14,
   "metadata": {},
   "outputs": [
    {
     "name": "stdout",
     "output_type": "stream",
     "text": [
      "\u001b[1m============================= test session starts ==============================\u001b[0m\n",
      "platform darwin -- Python 3.7.4, pytest-5.2.1, py-1.8.0, pluggy-0.13.0\n",
      "rootdir: /Users/jeff/Documents/jigsaw/curriculum/1-section-content/mod-1/3-objects/2-testing-objects\n",
      "plugins: arraydiff-0.3, remotedata-0.3.2, doctestplus-0.4.0, openfiles-0.4.0\n",
      "collected 3 items                                                              \u001b[0m\n",
      "\n",
      "test_bundle.py \u001b[32m.\u001b[0m\u001b[32m.\u001b[0m\u001b[32m.\u001b[0m\u001b[36m                                                       [100%]\u001b[0m\n",
      "\n",
      "\u001b[32m\u001b[1m============================== 3 passed in 0.23s ===============================\u001b[0m\n"
     ]
    }
   ],
   "source": [
    "!pytest ./test_bundle.py"
   ]
  },
  {
   "cell_type": "markdown",
   "metadata": {},
   "source": [
    "### Summary"
   ]
  },
  {
   "cell_type": "code",
   "execution_count": null,
   "metadata": {},
   "outputs": [],
   "source": []
  }
 ],
 "metadata": {
  "kernelspec": {
   "display_name": "Python 3",
   "language": "python",
   "name": "python3"
  },
  "language_info": {
   "codemirror_mode": {
    "name": "ipython",
    "version": 3
   },
   "file_extension": ".py",
   "mimetype": "text/x-python",
   "name": "python",
   "nbconvert_exporter": "python",
   "pygments_lexer": "ipython3",
   "version": "3.7.4"
  }
 },
 "nbformat": 4,
 "nbformat_minor": 4
}
