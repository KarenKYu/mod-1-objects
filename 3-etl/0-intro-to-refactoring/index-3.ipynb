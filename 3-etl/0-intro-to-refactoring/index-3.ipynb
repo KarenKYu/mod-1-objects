{
 "cells": [
  {
   "cell_type": "markdown",
   "metadata": {},
   "source": [
    "### 3. Make the code more readable"
   ]
  },
  {
   "cell_type": "markdown",
   "metadata": {},
   "source": [
    "Finally, refactoring makes our code more readable.  This is important for a couple reasons:\n",
    "* As data scientists, things will go wrong.  Readability will allow us to more easily debug our code.\n",
    "* We will want to use our code to for new problems.  To do that we will have to read our code, and then either change it, or apply it to our problem."
   ]
  },
  {
   "cell_type": "markdown",
   "metadata": {},
   "source": [
    "### Summary"
   ]
  },
  {
   "cell_type": "markdown",
   "metadata": {},
   "source": [
    "In this lesson, we learned about the benefits of refactoring.  By refactoring we make our code more reusable in the future. Our code becomes more reusable as refactoring makes our code more flexible, more readable, and simpler.  "
   ]
  }
 ],
 "metadata": {
  "kernelspec": {
   "display_name": "Python 3",
   "language": "python",
   "name": "python3"
  },
  "language_info": {
   "codemirror_mode": {
    "name": "ipython",
    "version": 3
   },
   "file_extension": ".py",
   "mimetype": "text/x-python",
   "name": "python",
   "nbconvert_exporter": "python",
   "pygments_lexer": "ipython3",
   "version": "3.7.0"
  }
 },
 "nbformat": 4,
 "nbformat_minor": 2
}
