{
 "cells": [
  {
   "cell_type": "markdown",
   "metadata": {},
   "source": [
    "### 3. Try: Refactor into smaller methods"
   ]
  },
  {
   "cell_type": "markdown",
   "metadata": {},
   "source": [
    "Now our `run` method is fairly long.  Ideally we want our methods to be no more than five lines long.  A good technique is to write comments above the code and then turn the comments into methods."
   ]
  },
  {
   "cell_type": "markdown",
   "metadata": {},
   "source": [
    "Give it a shot in the lines below.  You'll know that you didn't break any thing if you can still call `run` and receive back the same list of receipts."
   ]
  },
  {
   "cell_type": "code",
   "execution_count": 34,
   "metadata": {},
   "outputs": [],
   "source": [
    "import requests\n",
    "class ReceiptBuilder:\n",
    "    def run(self):\n",
    "        response = requests.get(\"https://data.texas.gov/resource/naix-2893.json?location_name=MAX%27S%20WINE%20DIVE\")\n",
    "        restaurant_receipts = response.json()\n",
    "        receipts = []\n",
    "        for restaurant_receipt in restaurant_receipts:\n",
    "            attributes = ('total_receipts', 'location_address', 'obligation_end_date_yyyymmdd', 'location_name')\n",
    "            receipt_data = dict((k, restaurant_receipt[k]) for k in attributes)\n",
    "            \n",
    "\n",
    "            attributes = ('total_receipts', 'location_address', 'obligation_end_date_yyyymmdd', 'location_name')\n",
    "            receipt_data = dict((k, receipt[k]) for k in attributes)\n",
    "            receipt = Receipt(receipt_data['total_receipts'], receipt_data['location_address'], receipt_data['obligation_end_date_yyyymmdd'], receipt_data['location_name'])\n",
    "            receipts.append(receipt)\n",
    "        return receipts"
   ]
  },
  {
   "cell_type": "code",
   "execution_count": 37,
   "metadata": {},
   "outputs": [
    {
     "data": {
      "text/plain": [
       "[<__main__.Receipt at 0x10a18d4a8>, <__main__.Receipt at 0x10a18d4e0>]"
      ]
     },
     "execution_count": 37,
     "metadata": {},
     "output_type": "execute_result"
    }
   ],
   "source": [
    "builder = ReceiptBuilder()\n",
    "builder.run()[0:2]"
   ]
  }
 ],
 "metadata": {
  "kernelspec": {
   "display_name": "Python 3",
   "language": "python",
   "name": "python3"
  },
  "language_info": {
   "codemirror_mode": {
    "name": "ipython",
    "version": 3
   },
   "file_extension": ".py",
   "mimetype": "text/x-python",
   "name": "python",
   "nbconvert_exporter": "python",
   "pygments_lexer": "ipython3",
   "version": "3.7.0"
  }
 },
 "nbformat": 4,
 "nbformat_minor": 2
}
