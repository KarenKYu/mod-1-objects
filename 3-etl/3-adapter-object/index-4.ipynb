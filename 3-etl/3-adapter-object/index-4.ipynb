{
 "cells": [
  {
   "cell_type": "markdown",
   "metadata": {},
   "source": [
    "### Tidying Up"
   ]
  },
  {
   "cell_type": "markdown",
   "metadata": {},
   "source": [
    "This is what we have as our final version of the class.\n",
    "\n",
    "Once again, we need our receipt class."
   ]
  },
  {
   "cell_type": "code",
   "execution_count": 31,
   "metadata": {},
   "outputs": [],
   "source": [
    "from datetime import datetime \n",
    "class Receipt:\n",
    "    def __init__(self, total, address, end_date, restaurant_name):\n",
    "        self.total = int(total)\n",
    "        self.address = address\n",
    "        self.end_date = end_date\n",
    "        self.restaurant_name = restaurant_name"
   ]
  },
  {
   "cell_type": "markdown",
   "metadata": {},
   "source": [
    "And this is our new `ReceiptBuilder`."
   ]
  },
  {
   "cell_type": "code",
   "execution_count": 48,
   "metadata": {},
   "outputs": [],
   "source": [
    "import requests\n",
    "class ReceiptBuilder:\n",
    "    def run(self):\n",
    "        self._receipts_data = self.retrieve_receipts()\n",
    "        self._receipts = self.receipts_data_to_objects(self._receipts_data)\n",
    "        return self._receipts\n",
    "    \n",
    "    def retrieve_receipts(self):\n",
    "        response = requests.get(\"https://data.texas.gov/resource/naix-2893.json?location_name=MAX%27S%20WINE%20DIVE\")\n",
    "        return response.json()\n",
    "    \n",
    "    def select_data(self, receipt_data):\n",
    "        attributes = ('total_receipts', 'location_address', 'obligation_end_date_yyyymmdd', 'location_name')\n",
    "        return dict((k, receipt_data[k]) for k in attributes)\n",
    "    \n",
    "    def create_receipt(self, receipt_data):\n",
    "        receipt = Receipt(receipt_data['total_receipts'], receipt_data['location_address'], receipt_data['obligation_end_date_yyyymmdd'], receipt_data['location_name'])\n",
    "        return receipt\n",
    "    \n",
    "    def receipts_data_to_objects(self, receipts_data):\n",
    "        receipts = []\n",
    "        for receipt_data in receipts_data:\n",
    "            selected_data = self.select_data(receipt_data)\n",
    "            receipt = self.create_receipt(selected_data)\n",
    "            receipts.append(receipt)\n",
    "        return receipts"
   ]
  },
  {
   "cell_type": "code",
   "execution_count": 49,
   "metadata": {},
   "outputs": [
    {
     "data": {
      "text/plain": [
       "[<__main__.Receipt at 0x111e86e80>,\n",
       " <__main__.Receipt at 0x111e86be0>,\n",
       " <__main__.Receipt at 0x111e867b8>]"
      ]
     },
     "execution_count": 49,
     "metadata": {},
     "output_type": "execute_result"
    }
   ],
   "source": [
    "builder = ReceiptBuilder()\n",
    "builder.run()[0:3]"
   ]
  },
  {
   "cell_type": "markdown",
   "metadata": {},
   "source": [
    "### Summary"
   ]
  },
  {
   "cell_type": "markdown",
   "metadata": {},
   "source": [
    "In this lesson we saw how to take a collection of unorganized code and make it more organized.  We did this through a step by step procedure.\n",
    "\n",
    "1. Identify the messy code\n",
    "2. Create a new class to place the messy code, and place code in MessyClass.run() method\n",
    "3. Make methods smaller by\n",
    "    * Write comments explaining what parts of the method do\n",
    "    * Turn those comments into individual method calls"
   ]
  }
 ],
 "metadata": {
  "kernelspec": {
   "display_name": "Python 3",
   "language": "python",
   "name": "python3"
  },
  "language_info": {
   "codemirror_mode": {
    "name": "ipython",
    "version": 3
   },
   "file_extension": ".py",
   "mimetype": "text/x-python",
   "name": "python",
   "nbconvert_exporter": "python",
   "pygments_lexer": "ipython3",
   "version": "3.7.0"
  }
 },
 "nbformat": 4,
 "nbformat_minor": 2
}
