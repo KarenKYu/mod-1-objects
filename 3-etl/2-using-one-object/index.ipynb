{
 "cells": [
  {
   "cell_type": "markdown",
   "metadata": {},
   "source": [
    "## Introduction"
   ]
  },
  {
   "cell_type": "markdown",
   "metadata": {},
   "source": [
    "Now, that we learned a little bit about why we should refactor, and attempted to refactor on our own, let's get to it with our Texas API code."
   ]
  },
  {
   "cell_type": "markdown",
   "metadata": {},
   "source": [
    "### Creating a single instance"
   ]
  },
  {
   "cell_type": "markdown",
   "metadata": {},
   "source": [
    "Let's start by looking at our original code that we used to call an API."
   ]
  },
  {
   "cell_type": "code",
   "execution_count": 1,
   "metadata": {},
   "outputs": [],
   "source": [
    "import requests\n",
    "response = requests.get(\"https://data.texas.gov/resource/naix-2893.json?location_name=MAX%27S%20WINE%20DIVE\")\n",
    "restaurant_receipts = response.json()"
   ]
  },
  {
   "cell_type": "code",
   "execution_count": 2,
   "metadata": {},
   "outputs": [
    {
     "data": {
      "text/plain": [
       "{'taxpayer_number': '12727298569',\n",
       " 'taxpayer_name': 'MWD AUSTIN DOWNTOWN, LLC',\n",
       " 'taxpayer_address': '7026 OLD KATY RD STE 255',\n",
       " 'taxpayer_city': 'HOUSTON',\n",
       " 'taxpayer_state': 'TX',\n",
       " 'taxpayer_zip': '77024',\n",
       " 'taxpayer_county': '101',\n",
       " 'location_number': '1',\n",
       " 'location_name': \"MAX'S WINE DIVE\",\n",
       " 'location_address': '207 SAN JACINTO BLVD STE 200',\n",
       " 'location_city': 'AUSTIN',\n",
       " 'location_state': 'TX',\n",
       " 'location_zip': '78701',\n",
       " 'location_county': '227',\n",
       " 'inside_outside_city_limits_code_y_n': 'Y',\n",
       " 'tabc_permit_number': 'MB944126',\n",
       " 'responsibility_begin_date_yyyymmdd': '2016-05-13T00:00:00.000',\n",
       " 'obligation_end_date_yyyymmdd': '2016-09-30T00:00:00.000',\n",
       " 'liquor_receipts': '18265',\n",
       " 'wine_receipts': '71497',\n",
       " 'beer_receipts': '10606',\n",
       " 'cover_charge_receipts': '0',\n",
       " 'total_receipts': '100368'}"
      ]
     },
     "execution_count": 2,
     "metadata": {},
     "output_type": "execute_result"
    }
   ],
   "source": [
    "restaurant_receipts[0]"
   ]
  },
  {
   "cell_type": "markdown",
   "metadata": {},
   "source": [
    "### Creating our Receipt Class"
   ]
  },
  {
   "cell_type": "markdown",
   "metadata": {},
   "source": [
    "Now the first component that we would like to refactor is our dictionary of a receipt.  Let's change it into an instance of a `Receipt`."
   ]
  },
  {
   "cell_type": "markdown",
   "metadata": {},
   "source": [
    "The first thing we do is define our class."
   ]
  },
  {
   "cell_type": "code",
   "execution_count": 18,
   "metadata": {},
   "outputs": [],
   "source": [
    "class Receipt:\n",
    "    def __init__(self, total, address, end_date, restaurant_name):\n",
    "        self.total = int(total)\n",
    "        self.address = address\n",
    "        self.end_date = end_date\n",
    "        self.restaurant_name = restaurant_name"
   ]
  },
  {
   "cell_type": "markdown",
   "metadata": {},
   "source": [
    "Then let's make sure that it works properly by passing through some data."
   ]
  },
  {
   "cell_type": "code",
   "execution_count": 21,
   "metadata": {},
   "outputs": [],
   "source": [
    "receipt = Receipt('1234', '33 blue hill lane', '12/29/2018', \"Max's Wine Bar\")"
   ]
  },
  {
   "cell_type": "code",
   "execution_count": 23,
   "metadata": {},
   "outputs": [
    {
     "data": {
      "text/plain": [
       "{'total': 1234,\n",
       " 'address': '33 blue hill lane',\n",
       " 'end_date': '12/29/2018',\n",
       " 'restaurant_name': \"Max's Wine Bar\"}"
      ]
     },
     "execution_count": 23,
     "metadata": {},
     "output_type": "execute_result"
    }
   ],
   "source": [
    "receipt.__dict__"
   ]
  },
  {
   "cell_type": "markdown",
   "metadata": {},
   "source": [
    "### 1. Using our API's data to create a receipt"
   ]
  },
  {
   "cell_type": "markdown",
   "metadata": {},
   "source": [
    "The next step, of course, is to pass through some of our actual data.  Give that a shot here, by using the data from the first dictionary returned from our API to create a new `Receipt` instance."
   ]
  },
  {
   "cell_type": "markdown",
   "metadata": {},
   "source": [
    "* To begin, select the first receipt from the API, and assign it to the variable `first_receipt_dict`."
   ]
  },
  {
   "cell_type": "code",
   "execution_count": 25,
   "metadata": {},
   "outputs": [],
   "source": [
    "first_receipt_dict = None"
   ]
  },
  {
   "cell_type": "markdown",
   "metadata": {},
   "source": [
    "* Then create a new `Receipt` instance with data from the selected dictionary.  Assign it to the variable `first_receipt`."
   ]
  },
  {
   "cell_type": "code",
   "execution_count": 26,
   "metadata": {},
   "outputs": [],
   "source": [
    "first_receipt = None"
   ]
  },
  {
   "cell_type": "markdown",
   "metadata": {},
   "source": [
    "### 2. Creating a list of receipts"
   ]
  },
  {
   "cell_type": "markdown",
   "metadata": {},
   "source": [
    "Now that we have accomplished turned one dictionary into an object, let's turn our list of dictionaries into a list of objects.  Remember that the list of our receipt dictionaries is stored in the `restaurant_receipts` variable.  Coerce the list of `restaurant_receipts` into a list of objects, and assign it to a variable named `receipts`."
   ]
  },
  {
   "cell_type": "code",
   "execution_count": 27,
   "metadata": {},
   "outputs": [],
   "source": [
    "# receipts"
   ]
  },
  {
   "cell_type": "markdown",
   "metadata": {},
   "source": [
    "### Summary"
   ]
  },
  {
   "cell_type": "markdown",
   "metadata": {},
   "source": [
    "In this lesson, we worked to create a new `Receipt` instance out of a dictionary that we received from the API.  This is just the first step.  Next we'll work to create many receipt instances."
   ]
  }
 ],
 "metadata": {
  "kernelspec": {
   "display_name": "Python 3",
   "language": "python",
   "name": "python3"
  },
  "language_info": {
   "codemirror_mode": {
    "name": "ipython",
    "version": 3
   },
   "file_extension": ".py",
   "mimetype": "text/x-python",
   "name": "python",
   "nbconvert_exporter": "python",
   "pygments_lexer": "ipython3",
   "version": "3.7.0"
  }
 },
 "nbformat": 4,
 "nbformat_minor": 2
}
